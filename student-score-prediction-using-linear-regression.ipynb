{
 "cells": [
  {
   "cell_type": "markdown",
   "metadata": {},
   "source": [
    "Beginners level Machine Learning (ML) project to build my skills. The aim here is to predict a students final score (G3) based on a number of factors. This will be a regression based ML project using sklearn."
   ]
  },
  {
   "cell_type": "code",
   "execution_count": 66,
   "metadata": {},
   "outputs": [],
   "source": [
    "# Handle all my imports\n",
    "import numpy as np\n",
    "import pandas as pd\n",
    "from sklearn.model_selection import train_test_split\n",
    "from sklearn.linear_model import LinearRegression\n",
    "import matplotlib.pyplot as plt\n",
    "import seaborn as sns"
   ]
  },
  {
   "cell_type": "code",
   "execution_count": 67,
   "metadata": {
    "_cell_guid": "b1076dfc-b9ad-4769-8c92-a6c4dae69d19",
    "_uuid": "8f2839f25d086af736a60e9eeb907d3b93b6e0e5"
   },
   "outputs": [
    {
     "name": "stdout",
     "output_type": "stream",
     "text": [
      "<class 'pandas.core.frame.DataFrame'>\n",
      "RangeIndex: 395 entries, 0 to 394\n",
      "Data columns (total 33 columns):\n",
      " #   Column      Non-Null Count  Dtype \n",
      "---  ------      --------------  ----- \n",
      " 0   school      395 non-null    object\n",
      " 1   sex         395 non-null    object\n",
      " 2   age         395 non-null    int64 \n",
      " 3   address     395 non-null    object\n",
      " 4   famsize     395 non-null    object\n",
      " 5   Pstatus     395 non-null    object\n",
      " 6   Medu        395 non-null    int64 \n",
      " 7   Fedu        395 non-null    int64 \n",
      " 8   Mjob        395 non-null    object\n",
      " 9   Fjob        395 non-null    object\n",
      " 10  reason      395 non-null    object\n",
      " 11  guardian    395 non-null    object\n",
      " 12  traveltime  395 non-null    int64 \n",
      " 13  studytime   395 non-null    int64 \n",
      " 14  failures    395 non-null    int64 \n",
      " 15  schoolsup   395 non-null    object\n",
      " 16  famsup      395 non-null    object\n",
      " 17  paid        395 non-null    object\n",
      " 18  activities  395 non-null    object\n",
      " 19  nursery     395 non-null    object\n",
      " 20  higher      395 non-null    object\n",
      " 21  internet    395 non-null    object\n",
      " 22  romantic    395 non-null    object\n",
      " 23  famrel      395 non-null    int64 \n",
      " 24  freetime    395 non-null    int64 \n",
      " 25  goout       395 non-null    int64 \n",
      " 26  Dalc        395 non-null    int64 \n",
      " 27  Walc        395 non-null    int64 \n",
      " 28  health      395 non-null    int64 \n",
      " 29  absences    395 non-null    int64 \n",
      " 30  G1          395 non-null    int64 \n",
      " 31  G2          395 non-null    int64 \n",
      " 32  G3          395 non-null    int64 \n",
      "dtypes: int64(16), object(17)\n",
      "memory usage: 102.0+ KB\n",
      "None\n"
     ]
    },
    {
     "data": {
      "text/html": [
       "<div>\n",
       "<style scoped>\n",
       "    .dataframe tbody tr th:only-of-type {\n",
       "        vertical-align: middle;\n",
       "    }\n",
       "\n",
       "    .dataframe tbody tr th {\n",
       "        vertical-align: top;\n",
       "    }\n",
       "\n",
       "    .dataframe thead th {\n",
       "        text-align: right;\n",
       "    }\n",
       "</style>\n",
       "<table border=\"1\" class=\"dataframe\">\n",
       "  <thead>\n",
       "    <tr style=\"text-align: right;\">\n",
       "      <th></th>\n",
       "      <th>school</th>\n",
       "      <th>sex</th>\n",
       "      <th>age</th>\n",
       "      <th>address</th>\n",
       "      <th>famsize</th>\n",
       "      <th>Pstatus</th>\n",
       "      <th>Medu</th>\n",
       "      <th>Fedu</th>\n",
       "      <th>Mjob</th>\n",
       "      <th>Fjob</th>\n",
       "      <th>...</th>\n",
       "      <th>famrel</th>\n",
       "      <th>freetime</th>\n",
       "      <th>goout</th>\n",
       "      <th>Dalc</th>\n",
       "      <th>Walc</th>\n",
       "      <th>health</th>\n",
       "      <th>absences</th>\n",
       "      <th>G1</th>\n",
       "      <th>G2</th>\n",
       "      <th>G3</th>\n",
       "    </tr>\n",
       "  </thead>\n",
       "  <tbody>\n",
       "    <tr>\n",
       "      <th>0</th>\n",
       "      <td>GP</td>\n",
       "      <td>F</td>\n",
       "      <td>18</td>\n",
       "      <td>U</td>\n",
       "      <td>GT3</td>\n",
       "      <td>A</td>\n",
       "      <td>4</td>\n",
       "      <td>4</td>\n",
       "      <td>at_home</td>\n",
       "      <td>teacher</td>\n",
       "      <td>...</td>\n",
       "      <td>4</td>\n",
       "      <td>3</td>\n",
       "      <td>4</td>\n",
       "      <td>1</td>\n",
       "      <td>1</td>\n",
       "      <td>3</td>\n",
       "      <td>6</td>\n",
       "      <td>5</td>\n",
       "      <td>6</td>\n",
       "      <td>6</td>\n",
       "    </tr>\n",
       "    <tr>\n",
       "      <th>1</th>\n",
       "      <td>GP</td>\n",
       "      <td>F</td>\n",
       "      <td>17</td>\n",
       "      <td>U</td>\n",
       "      <td>GT3</td>\n",
       "      <td>T</td>\n",
       "      <td>1</td>\n",
       "      <td>1</td>\n",
       "      <td>at_home</td>\n",
       "      <td>other</td>\n",
       "      <td>...</td>\n",
       "      <td>5</td>\n",
       "      <td>3</td>\n",
       "      <td>3</td>\n",
       "      <td>1</td>\n",
       "      <td>1</td>\n",
       "      <td>3</td>\n",
       "      <td>4</td>\n",
       "      <td>5</td>\n",
       "      <td>5</td>\n",
       "      <td>6</td>\n",
       "    </tr>\n",
       "    <tr>\n",
       "      <th>2</th>\n",
       "      <td>GP</td>\n",
       "      <td>F</td>\n",
       "      <td>15</td>\n",
       "      <td>U</td>\n",
       "      <td>LE3</td>\n",
       "      <td>T</td>\n",
       "      <td>1</td>\n",
       "      <td>1</td>\n",
       "      <td>at_home</td>\n",
       "      <td>other</td>\n",
       "      <td>...</td>\n",
       "      <td>4</td>\n",
       "      <td>3</td>\n",
       "      <td>2</td>\n",
       "      <td>2</td>\n",
       "      <td>3</td>\n",
       "      <td>3</td>\n",
       "      <td>10</td>\n",
       "      <td>7</td>\n",
       "      <td>8</td>\n",
       "      <td>10</td>\n",
       "    </tr>\n",
       "    <tr>\n",
       "      <th>3</th>\n",
       "      <td>GP</td>\n",
       "      <td>F</td>\n",
       "      <td>15</td>\n",
       "      <td>U</td>\n",
       "      <td>GT3</td>\n",
       "      <td>T</td>\n",
       "      <td>4</td>\n",
       "      <td>2</td>\n",
       "      <td>health</td>\n",
       "      <td>services</td>\n",
       "      <td>...</td>\n",
       "      <td>3</td>\n",
       "      <td>2</td>\n",
       "      <td>2</td>\n",
       "      <td>1</td>\n",
       "      <td>1</td>\n",
       "      <td>5</td>\n",
       "      <td>2</td>\n",
       "      <td>15</td>\n",
       "      <td>14</td>\n",
       "      <td>15</td>\n",
       "    </tr>\n",
       "    <tr>\n",
       "      <th>4</th>\n",
       "      <td>GP</td>\n",
       "      <td>F</td>\n",
       "      <td>16</td>\n",
       "      <td>U</td>\n",
       "      <td>GT3</td>\n",
       "      <td>T</td>\n",
       "      <td>3</td>\n",
       "      <td>3</td>\n",
       "      <td>other</td>\n",
       "      <td>other</td>\n",
       "      <td>...</td>\n",
       "      <td>4</td>\n",
       "      <td>3</td>\n",
       "      <td>2</td>\n",
       "      <td>1</td>\n",
       "      <td>2</td>\n",
       "      <td>5</td>\n",
       "      <td>4</td>\n",
       "      <td>6</td>\n",
       "      <td>10</td>\n",
       "      <td>10</td>\n",
       "    </tr>\n",
       "  </tbody>\n",
       "</table>\n",
       "<p>5 rows × 33 columns</p>\n",
       "</div>"
      ],
      "text/plain": [
       "  school sex  age address famsize Pstatus  Medu  Fedu     Mjob      Fjob  ...  \\\n",
       "0     GP   F   18       U     GT3       A     4     4  at_home   teacher  ...   \n",
       "1     GP   F   17       U     GT3       T     1     1  at_home     other  ...   \n",
       "2     GP   F   15       U     LE3       T     1     1  at_home     other  ...   \n",
       "3     GP   F   15       U     GT3       T     4     2   health  services  ...   \n",
       "4     GP   F   16       U     GT3       T     3     3    other     other  ...   \n",
       "\n",
       "  famrel freetime  goout  Dalc  Walc health absences  G1  G2  G3  \n",
       "0      4        3      4     1     1      3        6   5   6   6  \n",
       "1      5        3      3     1     1      3        4   5   5   6  \n",
       "2      4        3      2     2     3      3       10   7   8  10  \n",
       "3      3        2      2     1     1      5        2  15  14  15  \n",
       "4      4        3      2     1     2      5        4   6  10  10  \n",
       "\n",
       "[5 rows x 33 columns]"
      ]
     },
     "execution_count": 67,
     "metadata": {},
     "output_type": "execute_result"
    }
   ],
   "source": [
    "# Import the data and inspect it\n",
    "maths = pd.read_csv('student-mat.csv')\n",
    "print(maths.info())\n",
    "maths.head()\n"
   ]
  },
  {
   "cell_type": "code",
   "execution_count": 68,
   "metadata": {
    "_cell_guid": "79c7e3d0-c299-4dcb-8224-4455121ee9b0",
    "_uuid": "d629ff2d2480ee46fbb7e2d37f6b5fab8052498a"
   },
   "outputs": [
    {
     "name": "stderr",
     "output_type": "stream",
     "text": [
      "e:\\pythonEnvs\\MLcpu\\lib\\site-packages\\seaborn\\_decorators.py:36: FutureWarning: Pass the following variables as keyword args: x, y. From version 0.12, the only valid positional argument will be `data`, and passing other arguments without an explicit keyword will result in an error or misinterpretation.\n",
      "  warnings.warn(\n",
      "e:\\pythonEnvs\\MLcpu\\lib\\site-packages\\seaborn\\categorical.py:1296: UserWarning: 37.8% of the points cannot be placed; you may want to decrease the size of the markers or use stripplot.\n",
      "  warnings.warn(msg, UserWarning)\n",
      "e:\\pythonEnvs\\MLcpu\\lib\\site-packages\\seaborn\\_decorators.py:36: FutureWarning: Pass the following variables as keyword args: x, y. From version 0.12, the only valid positional argument will be `data`, and passing other arguments without an explicit keyword will result in an error or misinterpretation.\n",
      "  warnings.warn(\n",
      "e:\\pythonEnvs\\MLcpu\\lib\\site-packages\\seaborn\\categorical.py:1296: UserWarning: 22.1% of the points cannot be placed; you may want to decrease the size of the markers or use stripplot.\n",
      "  warnings.warn(msg, UserWarning)\n",
      "e:\\pythonEnvs\\MLcpu\\lib\\site-packages\\seaborn\\_decorators.py:36: FutureWarning: Pass the following variables as keyword args: x, y. From version 0.12, the only valid positional argument will be `data`, and passing other arguments without an explicit keyword will result in an error or misinterpretation.\n",
      "  warnings.warn(\n",
      "e:\\pythonEnvs\\MLcpu\\lib\\site-packages\\seaborn\\categorical.py:1296: UserWarning: 17.2% of the points cannot be placed; you may want to decrease the size of the markers or use stripplot.\n",
      "  warnings.warn(msg, UserWarning)\n"
     ]
    },
    {
     "data": {
      "image/png": "[encoded data removed]",
      "text/plain": [
       "<Figure size 1152x864 with 4 Axes>"
      ]
     },
     "metadata": {
      "needs_background": "light"
     },
     "output_type": "display_data"
    }
   ],
   "source": [
    "# Lets do some visual-EDA on our data which we will use\n",
    "\n",
    "fig, axes = plt.subplots(2, 2, figsize=(16,12))\n",
    "\n",
    "sns.regplot('G2', 'G3', data=maths, ax=axes[0, 0]).set_title('G2 vs G3 grades')\n",
    "sns.swarmplot('failures', 'G3', data=maths, ax=axes[1, 0]).set_title('Effect of Failures on Final Grade')\n",
    "sns.swarmplot('famrel', 'G3', data=maths, ax=axes[0, 1]).set_title('Effect of Family Relationships on Final Grade')\n",
    "sns.swarmplot('studytime', 'G3', data=maths, ax=axes[1, 1]).set_title('Effect of Studytime on Final Grade')\n",
    "plt.tight_layout()\n",
    "plt.show()"
   ]
  },
  {
   "cell_type": "markdown",
   "metadata": {},
   "source": [
    "Important to note here that the data is generally very well structured. There are no missing values and it is very complete. However sklearn can only accept numerical inputs. In this case I will only use some of the numerical columns we have. I will leave the pre-processing of labeled data for a more in-depth project."
   ]
  },
  {
   "cell_type": "code",
   "execution_count": 69,
   "metadata": {},
   "outputs": [
    {
     "name": "stdout",
     "output_type": "stream",
     "text": [
      "<class 'pandas.core.frame.DataFrame'>\n",
      "RangeIndex: 395 entries, 0 to 394\n",
      "Data columns (total 7 columns):\n",
      " #   Column     Non-Null Count  Dtype\n",
      "---  ------     --------------  -----\n",
      " 0   famrel     395 non-null    int64\n",
      " 1   studytime  395 non-null    int64\n",
      " 2   failures   395 non-null    int64\n",
      " 3   absences   395 non-null    int64\n",
      " 4   G1         395 non-null    int64\n",
      " 5   G2         395 non-null    int64\n",
      " 6   G3         395 non-null    int64\n",
      "dtypes: int64(7)\n",
      "memory usage: 21.7 KB\n",
      "None\n"
     ]
    }
   ],
   "source": [
    "maths = maths.select_dtypes('int64')\n",
    "maths = maths[['famrel', 'studytime', 'failures', 'absences', 'G1', 'G2', 'G3']]\n",
    "print(maths.info())\n",
    "\n",
    "# set our prediction of a students final score (G3)\n",
    "predict = 'G3'\n",
    "\n",
    "# split-up X & y and make sure that they are np array's\n",
    "# sklearn needs numpy array's as inputs\n",
    "X = np.array(maths.drop(predict, axis=1))\n",
    "y = np.array(maths[predict])"
   ]
  },
  {
   "cell_type": "code",
   "execution_count": 70,
   "metadata": {},
   "outputs": [
    {
     "data": {
      "text/html": [
       "<style>#sk-container-id-6 {color: black;background-color: white;}#sk-container-id-6 pre{padding: 0;}#sk-container-id-6 div.sk-toggleable {background-color: white;}#sk-container-id-6 label.sk-toggleable__label {cursor: pointer;display: block;width: 100%;margin-bottom: 0;padding: 0.3em;box-sizing: border-box;text-align: center;}#sk-container-id-6 label.sk-toggleable__label-arrow:before {content: \"▸\";float: left;margin-right: 0.25em;color: #696969;}#sk-container-id-6 label.sk-toggleable__label-arrow:hover:before {color: black;}#sk-container-id-6 div.sk-estimator:hover label.sk-toggleable__label-arrow:before {color: black;}#sk-container-id-6 div.sk-toggleable__content {max-height: 0;max-width: 0;overflow: hidden;text-align: left;background-color: #f0f8ff;}#sk-container-id-6 div.sk-toggleable__content pre {margin: 0.2em;color: black;border-radius: 0.25em;background-color: #f0f8ff;}#sk-container-id-6 input.sk-toggleable__control:checked~div.sk-toggleable__content {max-height: 200px;max-width: 100%;overflow: auto;}#sk-container-id-6 input.sk-toggleable__control:checked~label.sk-toggleable__label-arrow:before {content: \"▾\";}#sk-container-id-6 div.sk-estimator input.sk-toggleable__control:checked~label.sk-toggleable__label {background-color: #d4ebff;}#sk-container-id-6 div.sk-label input.sk-toggleable__control:checked~label.sk-toggleable__label {background-color: #d4ebff;}#sk-container-id-6 input.sk-hidden--visually {border: 0;clip: rect(1px 1px 1px 1px);clip: rect(1px, 1px, 1px, 1px);height: 1px;margin: -1px;overflow: hidden;padding: 0;position: absolute;width: 1px;}#sk-container-id-6 div.sk-estimator {font-family: monospace;background-color: #f0f8ff;border: 1px dotted black;border-radius: 0.25em;box-sizing: border-box;margin-bottom: 0.5em;}#sk-container-id-6 div.sk-estimator:hover {background-color: #d4ebff;}#sk-container-id-6 div.sk-parallel-item::after {content: \"\";width: 100%;border-bottom: 1px solid gray;flex-grow: 1;}#sk-container-id-6 div.sk-label:hover label.sk-toggleable__label {background-color: #d4ebff;}#sk-container-id-6 div.sk-serial::before {content: \"\";position: absolute;border-left: 1px solid gray;box-sizing: border-box;top: 0;bottom: 0;left: 50%;z-index: 0;}#sk-container-id-6 div.sk-serial {display: flex;flex-direction: column;align-items: center;background-color: white;padding-right: 0.2em;padding-left: 0.2em;position: relative;}#sk-container-id-6 div.sk-item {position: relative;z-index: 1;}#sk-container-id-6 div.sk-parallel {display: flex;align-items: stretch;justify-content: center;background-color: white;position: relative;}#sk-container-id-6 div.sk-item::before, #sk-container-id-6 div.sk-parallel-item::before {content: \"\";position: absolute;border-left: 1px solid gray;box-sizing: border-box;top: 0;bottom: 0;left: 50%;z-index: -1;}#sk-container-id-6 div.sk-parallel-item {display: flex;flex-direction: column;z-index: 1;position: relative;background-color: white;}#sk-container-id-6 div.sk-parallel-item:first-child::after {align-self: flex-end;width: 50%;}#sk-container-id-6 div.sk-parallel-item:last-child::after {align-self: flex-start;width: 50%;}#sk-container-id-6 div.sk-parallel-item:only-child::after {width: 0;}#sk-container-id-6 div.sk-dashed-wrapped {border: 1px dashed gray;margin: 0 0.4em 0.5em 0.4em;box-sizing: border-box;padding-bottom: 0.4em;background-color: white;}#sk-container-id-6 div.sk-label label {font-family: monospace;font-weight: bold;display: inline-block;line-height: 1.2em;}#sk-container-id-6 div.sk-label-container {text-align: center;}#sk-container-id-6 div.sk-container {/* jupyter's `normalize.less` sets `[hidden] { display: none; }` but bootstrap.min.css set `[hidden] { display: none !important; }` so we also need the `!important` here to be able to override the default hidden behavior on the sphinx rendered scikit-learn.org. See: https://github.com/scikit-learn/scikit-learn/issues/21755 */display: inline-block !important;position: relative;}#sk-container-id-6 div.sk-text-repr-fallback {display: none;}</style><div id=\"sk-container-id-6\" class=\"sk-top-container\"><div class=\"sk-text-repr-fallback\"><pre>LinearRegression()</pre><b>In a Jupyter environment, please rerun this cell to show the HTML representation or trust the notebook. <br />On GitHub, the HTML representation is unable to render, please try loading this page with nbviewer.org.</b></div><div class=\"sk-container\" hidden><div class=\"sk-item\"><div class=\"sk-estimator sk-toggleable\"><input class=\"sk-toggleable__control sk-hidden--visually\" id=\"sk-estimator-id-6\" type=\"checkbox\" checked><label for=\"sk-estimator-id-6\" class=\"sk-toggleable__label sk-toggleable__label-arrow\">LinearRegression</label><div class=\"sk-toggleable__content\"><pre>LinearRegression()</pre></div></div></div></div></div>"
      ],
      "text/plain": [
       "LinearRegression()"
      ]
     },
     "execution_count": 70,
     "metadata": {},
     "output_type": "execute_result"
    }
   ],
   "source": [
    "# split-up our current X & y variables into training\n",
    "# and testing data.\n",
    "\n",
    "X_train, X_test, y_train, y_test = train_test_split(\n",
    "    X, y, test_size=0.8, random_state=42\n",
    ")\n",
    "\n",
    "# Now we need to initiate our model and train it\n",
    "\n",
    "linear = LinearRegression()\n",
    "linear.fit(X_train, y_train)"
   ]
  },
  {
   "cell_type": "code",
   "execution_count": 71,
   "metadata": {},
   "outputs": [
    {
     "name": "stdout",
     "output_type": "stream",
     "text": [
      "The R^2 is:  0.8316968124174093\n",
      "famrel :  0.5675565229094427\n",
      "studytime :  -0.46968540367724987\n",
      "failures :  -0.5180844666140668\n",
      "absences :  0.029015504354730548\n",
      "G1 :  0.11790811767680992\n",
      "G2 :  0.9549903285694339\n",
      "The intercept of our slope is:  -2.3293128685712094\n"
     ]
    }
   ],
   "source": [
    "# Lets take a look at how well this model preforms\n",
    "print(\"The R^2 is: \", linear.score(X_test, y_test))\n",
    "coeff = linear.coef_\n",
    "intercept = linear.intercept_\n",
    "\n",
    "for i in range(len(coeff)):\n",
    "    print(maths.columns[i], ': ', coeff[i])\n",
    "print('The intercept of our slope is: ', intercept)"
   ]
  },
  {
   "cell_type": "markdown",
   "metadata": {},
   "source": [
    "In conclusion our model explains 83% of the inputs into a students final\n",
    "score. What we can clearly see is the biggest factor going into the estimation\n",
    "is the score that they would get in G2. What does look interesting is the fact that\n",
    "studytime is negatively related to the grade that they get, however this is a very\n",
    "small factor. "
   ]
  },
  {
   "cell_type": "code",
   "execution_count": 72,
   "metadata": {},
   "outputs": [
    {
     "name": "stdout",
     "output_type": "stream",
     "text": [
      "<class 'pandas.core.frame.DataFrame'>\n",
      "RangeIndex: 395 entries, 0 to 394\n",
      "Data columns (total 5 columns):\n",
      " #   Column    Non-Null Count  Dtype\n",
      "---  ------    --------------  -----\n",
      " 0   famrel    395 non-null    int64\n",
      " 1   failures  395 non-null    int64\n",
      " 2   absences  395 non-null    int64\n",
      " 3   G2        395 non-null    int64\n",
      " 4   G3        395 non-null    int64\n",
      "dtypes: int64(5)\n",
      "memory usage: 15.6 KB\n",
      "None\n",
      "The R^2 is:  0.8325314539371342\n",
      "famrel :  0.6082176851843556\n",
      "failures :  -0.33970006136169495\n",
      "absences :  0.025964316592543835\n",
      "G2 :  1.044780106391494\n",
      "The intercept of our slope is:  -3.226643599123685\n"
     ]
    }
   ],
   "source": [
    "maths1 = maths[['famrel','failures', 'absences', 'G2', 'G3']]\n",
    "\n",
    "print(maths1.info())\n",
    "\n",
    "# set our prediction of a students final score (G3)\n",
    "predict = 'G3'\n",
    "\n",
    "# split-up X & y and make sure that they are np array's\n",
    "# sklearn needs numpy array's as inputs\n",
    "X = np.array(maths1.drop('G3', axis=1))\n",
    "y = np.array(maths1['G3'])\n",
    "# split-up our current X & y variables into training\n",
    "# and testing data.\n",
    "\n",
    "X_train, X_test, y_train, y_test = train_test_split(\n",
    "    X, y, test_size=0.8, random_state=42\n",
    ")\n",
    "\n",
    "# Now we need to initiate our model and train it\n",
    "\n",
    "linear = LinearRegression()\n",
    "linear.fit(X_train, y_train)\n",
    "# Lets take a look at how well this model preforms\n",
    "print(\"The R^2 is: \", linear.score(X_test, y_test))\n",
    "coeff = linear.coef_\n",
    "intercept = linear.intercept_\n",
    "\n",
    "for i in range(len(coeff)):\n",
    "    print(maths1.columns[i], ': ', coeff[i])\n",
    "print('The intercept of our slope is: ', intercept)"
   ]
  },
  {
   "cell_type": "markdown",
   "metadata": {},
   "source": [
    "## Second Regression Model"
   ]
  },
  {
   "cell_type": "code",
   "execution_count": 73,
   "metadata": {},
   "outputs": [
    {
     "name": "stdout",
     "output_type": "stream",
     "text": [
      "<class 'pandas.core.frame.DataFrame'>\n",
      "RangeIndex: 395 entries, 0 to 394\n",
      "Data columns (total 7 columns):\n",
      " #   Column     Non-Null Count  Dtype\n",
      "---  ------     --------------  -----\n",
      " 0   famrel     395 non-null    int64\n",
      " 1   studytime  395 non-null    int64\n",
      " 2   failures   395 non-null    int64\n",
      " 3   absences   395 non-null    int64\n",
      " 4   G1         395 non-null    int64\n",
      " 5   G2         395 non-null    int64\n",
      " 6   G3         395 non-null    int64\n",
      "dtypes: int64(7)\n",
      "memory usage: 21.7 KB\n",
      "None\n",
      "The R^2 is:  0.8290031623569941\n",
      "famrel :  0.6146315680614332\n",
      "G1 :  0.05740540027614438\n",
      "G2 :  1.0223172971635714\n",
      "The intercept of our slope is:  -3.6003818667182355\n"
     ]
    }
   ],
   "source": [
    "maths2 = maths[['famrel','G1', 'G2', 'G3']]\n",
    "print(maths.info())\n",
    "\n",
    "# set our prediction of a students final score (G3)\n",
    "predict = 'G3'\n",
    "\n",
    "# split-up X & y and make sure that they are np array's\n",
    "# sklearn needs numpy array's as inputs\n",
    "X = np.array(maths2.drop(predict, axis=1))\n",
    "y = np.array(maths2[predict])\n",
    "# split-up our current X & y variables into training\n",
    "# and testing data.\n",
    "\n",
    "X_train, X_test, y_train, y_test = train_test_split(\n",
    "    X, y, test_size=0.8, random_state=42\n",
    ")\n",
    "\n",
    "# Now we need to initiate our model and train it\n",
    "\n",
    "linear = LinearRegression()\n",
    "linear.fit(X_train, y_train)\n",
    "# Lets take a look at how well this model preforms\n",
    "print(\"The R^2 is: \", linear.score(X_test, y_test))\n",
    "coeff = linear.coef_\n",
    "intercept = linear.intercept_\n",
    "\n",
    "for i in range(len(coeff)):\n",
    "    print(maths2.columns[i], ': ', coeff[i])\n",
    "print('The intercept of our slope is: ', intercept)"
   ]
  },
  {
   "cell_type": "markdown",
   "metadata": {},
   "source": [
    "## Third Regression Model "
   ]
  },
  {
   "cell_type": "code",
   "execution_count": 74,
   "metadata": {},
   "outputs": [
    {
     "name": "stdout",
     "output_type": "stream",
     "text": [
      "<class 'pandas.core.frame.DataFrame'>\n",
      "RangeIndex: 395 entries, 0 to 394\n",
      "Data columns (total 2 columns):\n",
      " #   Column     Non-Null Count  Dtype\n",
      "---  ------     --------------  -----\n",
      " 0   studytime  395 non-null    int64\n",
      " 1   G3         395 non-null    int64\n",
      "dtypes: int64(2)\n",
      "memory usage: 6.3 KB\n",
      "None\n",
      "The R^2 is:  -0.023733611640623264\n",
      "studytime :  -0.38093338651775005\n",
      "The intercept of our slope is:  11.194654966094934\n"
     ]
    }
   ],
   "source": [
    "maths3 = maths[['studytime', 'G3']]\n",
    "print(maths3.info())\n",
    "\n",
    "# set our prediction of a students final score (G3)\n",
    "predict = 'G3'\n",
    "\n",
    "# split-up X & y and make sure that they are np array's\n",
    "# sklearn needs numpy array's as inputs\n",
    "X = np.array(maths3.drop(predict, axis=1))\n",
    "y = np.array(maths3[predict])\n",
    "# split-up our current X & y variables into training\n",
    "# and testing data.\n",
    "\n",
    "X_train, X_test, y_train, y_test = train_test_split(\n",
    "    X, y, test_size=0.8, random_state=42\n",
    ")\n",
    "\n",
    "# Now we need to initiate our model and train it\n",
    "\n",
    "linear = LinearRegression()\n",
    "linear.fit(X_train, y_train)\n",
    "# Lets take a look at how well this model preforms\n",
    "print(\"The R^2 is: \", linear.score(X_test, y_test))\n",
    "coeff = linear.coef_\n",
    "intercept = linear.intercept_\n",
    "\n",
    "for i in range(len(coeff)):\n",
    "    print(maths3.columns[i], ': ', coeff[i])\n",
    "print('The intercept of our slope is: ', intercept)"
   ]
  },
  {
   "cell_type": "markdown",
   "metadata": {},
   "source": [
    "## Fifth Model"
   ]
  },
  {
   "cell_type": "code",
   "execution_count": 75,
   "metadata": {},
   "outputs": [
    {
     "name": "stdout",
     "output_type": "stream",
     "text": [
      "<class 'pandas.core.frame.DataFrame'>\n",
      "RangeIndex: 395 entries, 0 to 394\n",
      "Data columns (total 4 columns):\n",
      " #   Column    Non-Null Count  Dtype\n",
      "---  ------    --------------  -----\n",
      " 0   famrel    395 non-null    int64\n",
      " 1   absences  395 non-null    int64\n",
      " 2   G1        395 non-null    int64\n",
      " 3   G3        395 non-null    int64\n",
      "dtypes: int64(4)\n",
      "memory usage: 12.5 KB\n",
      "None\n",
      "The R^2 is:  0.6513660742622447\n",
      "famrel :  0.6517302323536082\n",
      "absences :  0.004830458982945207\n",
      "G1 :  0.9358691735860499\n",
      "The intercept of our slope is:  -2.372810284589473\n"
     ]
    }
   ],
   "source": [
    "maths4 = maths[['famrel', 'absences', 'G1',  'G3']]\n",
    "print(maths4.info())\n",
    "\n",
    "# set our prediction of a students final score (G3)\n",
    "predict = 'G3'\n",
    "\n",
    "# split-up X & y and make sure that they are np array's\n",
    "# sklearn needs numpy array's as inputs\n",
    "X = np.array(maths4.drop(predict, axis=1))\n",
    "y = np.array(maths4[predict])\n",
    "# split-up our current X & y variables into training\n",
    "# and testing data.\n",
    "\n",
    "X_train, X_test, y_train, y_test = train_test_split(\n",
    "    X, y, test_size=0.8, random_state=42\n",
    ")\n",
    "\n",
    "# Now we need to initiate our model and train it\n",
    "\n",
    "linear = LinearRegression()\n",
    "linear.fit(X_train, y_train)\n",
    "# Lets take a look at how well this model preforms\n",
    "print(\"The R^2 is: \", linear.score(X_test, y_test))\n",
    "coeff = linear.coef_\n",
    "intercept = linear.intercept_\n",
    "\n",
    "for i in range(len(coeff)):\n",
    "    print(maths4.columns[i], ': ', coeff[i])\n",
    "print('The intercept of our slope is: ', intercept)"
   ]
  },
  {
   "cell_type": "markdown",
   "metadata": {},
   "source": [
    "## Sixth Model"
   ]
  },
  {
   "cell_type": "code",
   "execution_count": 76,
   "metadata": {},
   "outputs": [
    {
     "name": "stdout",
     "output_type": "stream",
     "text": [
      "<class 'pandas.core.frame.DataFrame'>\n",
      "RangeIndex: 395 entries, 0 to 394\n",
      "Data columns (total 2 columns):\n",
      " #   Column  Non-Null Count  Dtype\n",
      "---  ------  --------------  -----\n",
      " 0   G2      395 non-null    int64\n",
      " 1   G3      395 non-null    int64\n",
      "dtypes: int64(2)\n",
      "memory usage: 6.3 KB\n",
      "None\n",
      "The R^2 is:  0.8272284743826337\n",
      "G2 :  1.0671618287753928\n",
      "The intercept of our slope is:  -0.9537819537032224\n"
     ]
    }
   ],
   "source": [
    "maths5 = maths[['G2', 'G3']]\n",
    "print(maths5.info())\n",
    "\n",
    "# set our prediction of a students final score (G3)\n",
    "predict = 'G3'\n",
    "\n",
    "# split-up X & y and make sure that they are np array's\n",
    "# sklearn needs numpy array's as inputs\n",
    "X = np.array(maths5.drop(predict, axis=1))\n",
    "y = np.array(maths5[predict])\n",
    "# split-up our current X & y variables into training\n",
    "# and testing data.\n",
    "\n",
    "X_train, X_test, y_train, y_test = train_test_split(\n",
    "    X, y, test_size=0.8, random_state=42\n",
    ")\n",
    "\n",
    "# Now we need to initiate our model and train it\n",
    "\n",
    "linear = LinearRegression()\n",
    "linear.fit(X_train, y_train)\n",
    "# Lets take a look at how well this model preforms\n",
    "print(\"The R^2 is: \", linear.score(X_test, y_test))\n",
    "coeff = linear.coef_\n",
    "intercept = linear.intercept_\n",
    "\n",
    "for i in range(len(coeff)):\n",
    "    print(maths5.columns[i], ': ', coeff[i])\n",
    "print('The intercept of our slope is: ', intercept)"
   ]
  },
  {
   "cell_type": "markdown",
   "metadata": {},
   "source": [
    "## Seventh Model"
   ]
  },
  {
   "cell_type": "code",
   "execution_count": 77,
   "metadata": {},
   "outputs": [
    {
     "name": "stdout",
     "output_type": "stream",
     "text": [
      "<class 'pandas.core.frame.DataFrame'>\n",
      "RangeIndex: 395 entries, 0 to 394\n",
      "Data columns (total 3 columns):\n",
      " #   Column  Non-Null Count  Dtype\n",
      "---  ------  --------------  -----\n",
      " 0   G1      395 non-null    int64\n",
      " 1   G2      395 non-null    int64\n",
      " 2   G3      395 non-null    int64\n",
      "dtypes: int64(3)\n",
      "memory usage: 9.4 KB\n",
      "None\n",
      "The R^2 is:  0.8300389828696426\n",
      "G1 :  0.06514147578365931\n",
      "G2 :  1.0244288702112079\n",
      "The intercept of our slope is:  -1.200836411687515\n"
     ]
    }
   ],
   "source": [
    "maths6 = maths[[ 'G1', 'G2', 'G3']]\n",
    "print(maths6.info())\n",
    "\n",
    "# set our prediction of a students final score (G3)\n",
    "predict = 'G3'\n",
    "\n",
    "# split-up X & y and make sure that they are np array's\n",
    "# sklearn needs numpy array's as inputs\n",
    "X = np.array(maths6.drop(predict, axis=1))\n",
    "y = np.array(maths6[predict])\n",
    "# split-up our current X & y variables into training\n",
    "# and testing data.\n",
    "\n",
    "X_train, X_test, y_train, y_test = train_test_split(\n",
    "    X, y, test_size=0.8, random_state=42\n",
    ")\n",
    "\n",
    "# Now we need to initiate our model and train it\n",
    "\n",
    "linear = LinearRegression()\n",
    "linear.fit(X_train, y_train)\n",
    "# Lets take a look at how well this model preforms\n",
    "print(\"The R^2 is: \", linear.score(X_test, y_test))\n",
    "coeff = linear.coef_\n",
    "intercept = linear.intercept_\n",
    "\n",
    "for i in range(len(coeff)):\n",
    "    print(maths6.columns[i], ': ', coeff[i])\n",
    "print('The intercept of our slope is: ', intercept)"
   ]
  },
  {
   "cell_type": "markdown",
   "metadata": {},
   "source": []
  },
  {
   "cell_type": "markdown",
   "metadata": {},
   "source": [
    "## Eighth Model"
   ]
  },
  {
   "cell_type": "code",
   "execution_count": 78,
   "metadata": {},
   "outputs": [
    {
     "name": "stdout",
     "output_type": "stream",
     "text": [
      "<class 'pandas.core.frame.DataFrame'>\n",
      "RangeIndex: 395 entries, 0 to 394\n",
      "Data columns (total 5 columns):\n",
      " #   Column    Non-Null Count  Dtype\n",
      "---  ------    --------------  -----\n",
      " 0   failures  395 non-null    int64\n",
      " 1   absences  395 non-null    int64\n",
      " 2   G1        395 non-null    int64\n",
      " 3   G2        395 non-null    int64\n",
      " 4   G3        395 non-null    int64\n",
      "dtypes: int64(5)\n",
      "memory usage: 15.6 KB\n",
      "None\n",
      "The R^2 is:  0.8349773547108821\n",
      "failures :  -0.3900339810957194\n",
      "absences :  0.024977456255196873\n",
      "G1 :  0.06694827808985931\n",
      "G2 :  1.0045459232498906\n",
      "The intercept of our slope is:  -1.018599410149566\n"
     ]
    }
   ],
   "source": [
    "maths7 = maths[[ 'failures', 'absences', 'G1', 'G2', 'G3']]\n",
    "print(maths7.info())\n",
    "\n",
    "# set our prediction of a students final score (G3)\n",
    "predict = 'G3'\n",
    "\n",
    "# split-up X & y and make sure that they are np array's\n",
    "# sklearn needs numpy array's as inputs\n",
    "X = np.array(maths7.drop(predict, axis=1))\n",
    "y = np.array(maths7[predict])\n",
    "# split-up our current X & y variables into training\n",
    "# and testing data.\n",
    "\n",
    "X_train, X_test, y_train, y_test = train_test_split(\n",
    "    X, y, test_size=0.8, random_state=42\n",
    ")\n",
    "\n",
    "# Now we need to initiate our model and train it\n",
    "\n",
    "linear = LinearRegression()\n",
    "linear.fit(X_train, y_train)\n",
    "# Lets take a look at how well this model preforms\n",
    "print(\"The R^2 is: \", linear.score(X_test, y_test))\n",
    "coeff = linear.coef_\n",
    "intercept = linear.intercept_\n",
    "\n",
    "for i in range(len(coeff)):\n",
    "    print(maths7.columns[i], ': ', coeff[i])\n",
    "print('The intercept of our slope is: ', intercept)"
   ]
  },
  {
   "cell_type": "markdown",
   "metadata": {},
   "source": [
    "## Ninth Model"
   ]
  },
  {
   "cell_type": "code",
   "execution_count": 79,
   "metadata": {},
   "outputs": [
    {
     "name": "stdout",
     "output_type": "stream",
     "text": [
      "<class 'pandas.core.frame.DataFrame'>\n",
      "RangeIndex: 395 entries, 0 to 394\n",
      "Data columns (total 4 columns):\n",
      " #   Column     Non-Null Count  Dtype\n",
      "---  ------     --------------  -----\n",
      " 0   famrel     395 non-null    int64\n",
      " 1   studytime  395 non-null    int64\n",
      " 2   failures   395 non-null    int64\n",
      " 3   G3         395 non-null    int64\n",
      "dtypes: int64(4)\n",
      "memory usage: 12.5 KB\n",
      "None\n",
      "The R^2 is:  0.08230026291457504\n",
      "famrel :  0.7180648431840415\n",
      "studytime :  -0.7287539275943304\n",
      "failures :  -2.202731341143811\n",
      "The intercept of our slope is:  9.736880368707842\n"
     ]
    }
   ],
   "source": [
    "maths8 = maths[['famrel', 'studytime', 'failures', 'G3']]\n",
    "print(maths8.info())\n",
    "\n",
    "# set our prediction of a students final score (G3)\n",
    "predict = 'G3'\n",
    "\n",
    "# split-up X & y and make sure that they are np array's\n",
    "# sklearn needs numpy array's as inputs\n",
    "X = np.array(maths8.drop(predict, axis=1))\n",
    "y = np.array(maths8[predict])\n",
    "# split-up our current X & y variables into training\n",
    "# and testing data.\n",
    "\n",
    "X_train, X_test, y_train, y_test = train_test_split(\n",
    "    X, y, test_size=0.8, random_state=42\n",
    ")\n",
    "\n",
    "# Now we need to initiate our model and train it\n",
    "\n",
    "linear = LinearRegression()\n",
    "linear.fit(X_train, y_train)\n",
    "# Lets take a look at how well this model preforms\n",
    "print(\"The R^2 is: \", linear.score(X_test, y_test))\n",
    "coeff = linear.coef_\n",
    "intercept = linear.intercept_\n",
    "\n",
    "for i in range(len(coeff)):\n",
    "    print(maths8.columns[i], ': ', coeff[i])\n",
    "print('The intercept of our slope is: ', intercept)"
   ]
  },
  {
   "cell_type": "markdown",
   "metadata": {},
   "source": [
    "## Tenth Model"
   ]
  },
  {
   "cell_type": "code",
   "execution_count": 80,
   "metadata": {},
   "outputs": [
    {
     "name": "stdout",
     "output_type": "stream",
     "text": [
      "<class 'pandas.core.frame.DataFrame'>\n",
      "RangeIndex: 395 entries, 0 to 394\n",
      "Data columns (total 3 columns):\n",
      " #   Column     Non-Null Count  Dtype\n",
      "---  ------     --------------  -----\n",
      " 0   famrel     395 non-null    int64\n",
      " 1   studytime  395 non-null    int64\n",
      " 2   G3         395 non-null    int64\n",
      "dtypes: int64(3)\n",
      "memory usage: 9.4 KB\n",
      "None\n",
      "The R^2 is:  -0.04152422113686138\n",
      "famrel :  0.8922931978446138\n",
      "studytime :  -0.35512913568259497\n",
      "The intercept of our slope is:  7.502511572460669\n"
     ]
    }
   ],
   "source": [
    "maths9 = maths[['famrel', 'studytime','G3']]\n",
    "print(maths9.info())\n",
    "\n",
    "# set our prediction of a students final score (G3)\n",
    "predict = 'G3'\n",
    "\n",
    "# split-up X & y and make sure that they are np array's\n",
    "# sklearn needs numpy array's as inputs\n",
    "X = np.array(maths9.drop(predict, axis=1))\n",
    "y = np.array(maths9[predict])\n",
    "# split-up our current X & y variables into training\n",
    "# and testing data.\n",
    "\n",
    "X_train, X_test, y_train, y_test = train_test_split(\n",
    "    X, y, test_size=0.8, random_state=42\n",
    ")\n",
    "\n",
    "# Now we need to initiate our model and train it\n",
    "\n",
    "linear = LinearRegression()\n",
    "linear.fit(X_train, y_train)\n",
    "# Lets take a look at how well this model preforms\n",
    "print(\"The R^2 is: \", linear.score(X_test, y_test))\n",
    "coeff = linear.coef_\n",
    "intercept = linear.intercept_\n",
    "\n",
    "for i in range(len(coeff)):\n",
    "    print(maths9.columns[i], ': ', coeff[i])\n",
    "print('The intercept of our slope is: ', intercept)"
   ]
  },
  {
   "cell_type": "code",
   "execution_count": null,
   "metadata": {},
   "outputs": [],
   "source": []
  }
 ],
 "metadata": {
  "kernelspec": {
   "display_name": "Python 3.10.4",
   "language": "python",
   "name": "python3"
  },
  "language_info": {
   "codemirror_mode": {
    "name": "ipython",
    "version": 3
   },
   "file_extension": ".py",
   "mimetype": "text/x-python",
   "name": "python",
   "nbconvert_exporter": "python",
   "pygments_lexer": "ipython3",
   "version": "3.10.4"
  },
  "vscode": {
   "interpreter": {
    "hash": "3f15cc80c158df08fefdaea891f82d76a62269a556543ac40c434af592a4dd5e"
   }
  }
 },
 "nbformat": 4,
 "nbformat_minor": 1
}
